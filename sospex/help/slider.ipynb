{
 "cells": [
  {
   "cell_type": "markdown",
   "metadata": {},
   "source": [
    "[Previous](files/specpanel.html) &nbsp; &nbsp; &nbsp; &nbsp; &nbsp;  [Next](files/slice.html)&nbsp; &nbsp; &nbsp; &nbsp; &nbsp;  [Tutorials](files/tutorials.html) &nbsp; &nbsp; &nbsp; &nbsp; &nbsp;  [Help](files/Help.html)"
   ]
  },
  {
   "cell_type": "markdown",
   "metadata": {},
   "source": [
    "## Slice the spectral cube\n",
    "\n",
    "|Button|Function|\n",
    "|:-:|:-|\n",
    "|<img src=\"../icons/slidecube.png\" alt=\"New\" style=\"width: 20px;\"/>|Slide along the spectral dimension of the cube|\n",
    "\n",
    "By clicking the icon, a slider is activated on the spectral panel. The slider consists of a light green band (the width of the channel) and a green triangle on the top. By clicking the triangle and dragging the mouse it is possible to slide along the spectral dimension of the cube and see the relative section of the cube in the image panel.\n",
    "The slide activates the flux and exposure maps.\n"
   ]
  }
 ],
 "metadata": {
  "kernelspec": {
   "display_name": "Python 3",
   "language": "python",
   "name": "python3"
  },
  "language_info": {
   "codemirror_mode": {
    "name": "ipython",
    "version": 3
   },
   "file_extension": ".py",
   "mimetype": "text/x-python",
   "name": "python",
   "nbconvert_exporter": "python",
   "pygments_lexer": "ipython3",
   "version": "3.6.6"
  }
 },
 "nbformat": 4,
 "nbformat_minor": 2
}
