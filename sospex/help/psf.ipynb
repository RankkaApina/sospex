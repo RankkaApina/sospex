{
 "cells": [
  {
   "cell_type": "markdown",
   "metadata": {},
   "source": [
    "[Previous](files/atmtrans.html) &nbsp; &nbsp; &nbsp; &nbsp; &nbsp;  [Next](files/tutorials.html)&nbsp; &nbsp; &nbsp; &nbsp; &nbsp;  [Tutorials](files/tutorials.html) &nbsp; &nbsp; &nbsp; &nbsp; &nbsp;  [Help](files/Help.html)"
   ]
  },
  {
   "cell_type": "markdown",
   "metadata": {},
   "source": [
    "# PSF"
   ]
  },
  {
   "cell_type": "markdown",
   "metadata": {},
   "source": [
    "|Button|Function|\n",
    "|:-:|:-|\n",
    "|<img src=\"../icons/psf.png\" alt=\"PSF\" style=\"width: 20px;\"/>|Measure FWHM of a PSF |"
   ]
  },
  {
   "cell_type": "markdown",
   "metadata": {},
   "source": [
    "By clicking on this icon, it is possible to define a circular aperture with an exterior annulus to fit a Moffat function and estimate the FWHM of a point source.\n",
    "\n",
    "Once a circle around the source is defined by clicking and dragging the mouse on the image, a tab opens on the spectral side showing the expected profile of the instrument (the spectral cube), the flux measured on the image after subtraction of the median value in the annulus, and the fit of the points with a Moffat function. The FWHM of the fit and of the expected PSF is shown in the legend.\n",
    "\n",
    "The aperture can be modified by dragging the markers on the aperture."
   ]
  },
  {
   "cell_type": "markdown",
   "metadata": {},
   "source": [
    "|Button|Function|\n",
    "|:-:|:-|\n",
    "|<img src=\"../icons/centroid.png\" alt=\"PSF centroid\" style=\"width: 20px;\"/>|PSF centroid |\n",
    "|<img src=\"../icons/center.png\" alt=\"PSF recenter\" style=\"width: 20px;\"/>|PSF recenter |"
   ]
  },
  {
   "cell_type": "markdown",
   "metadata": {},
   "source": [
    "It is possible to automatically recenter the aperture on the centroid of the intensity by clicking on the first icon.\n",
    "\n",
    "The second icon will compute a new center by fitting a 2D Gaussian on the intensity in the aperture.\n",
    "Usually it gives the best results.\n",
    "Once recentered, the Moffat fit is automatically redone and the FWHM estimate is displayed in the legend."
   ]
  }
 ],
 "metadata": {
  "kernelspec": {
   "display_name": "Python 3",
   "language": "python",
   "name": "python3"
  },
  "language_info": {
   "codemirror_mode": {
    "name": "ipython",
    "version": 3
   },
   "file_extension": ".py",
   "mimetype": "text/x-python",
   "name": "python",
   "nbconvert_exporter": "python",
   "pygments_lexer": "ipython3",
   "version": "3.7.3"
  }
 },
 "nbformat": 4,
 "nbformat_minor": 2
}
