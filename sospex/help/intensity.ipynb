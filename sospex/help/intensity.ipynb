{
 "cells": [
  {
   "cell_type": "markdown",
   "metadata": {},
   "source": [
    "[Previous](files/zoom.html) &nbsp; &nbsp; &nbsp; &nbsp; &nbsp;  [Next](files/specpanel.html)&nbsp; &nbsp; &nbsp; &nbsp; &nbsp;  [Tutorials](files/tutorials.html) &nbsp; &nbsp; &nbsp; &nbsp; &nbsp;  [Help](files/Help.html)"
   ]
  },
  {
   "cell_type": "markdown",
   "metadata": {},
   "source": [
    "## Regulate the intensity of the image"
   ]
  },
  {
   "cell_type": "markdown",
   "metadata": {},
   "source": [
    "|Button|Function|\n",
    "|:-:|:-|\n",
    "|<img src=\"../icons/levels.png\" alt=\"New\" style=\"width: 20px;\"/>|Regulation of the intensity levels. |\n",
    "\n",
    "After clicking the icon, the histogram of image levels appears on the bottom of the image.\n",
    "It is possible to select a different stretch by clicking and dragging the mouse over the\n",
    "intensity interval one wants to display.\n",
    "\n",
    "The histogram disappear by clicking the same intensity icon.\n",
    "As you can read on the tutorial on contours, the levels used to draw contours on the image are shown as\n",
    "vertical bars on the intensity histogram.\n"
   ]
  }
 ],
 "metadata": {
  "kernelspec": {
   "display_name": "Python 3",
   "language": "python",
   "name": "python3"
  },
  "language_info": {
   "codemirror_mode": {
    "name": "ipython",
    "version": 3
   },
   "file_extension": ".py",
   "mimetype": "text/x-python",
   "name": "python",
   "nbconvert_exporter": "python",
   "pygments_lexer": "ipython3",
   "version": "3.6.1"
  }
 },
 "nbformat": 4,
 "nbformat_minor": 2
}
