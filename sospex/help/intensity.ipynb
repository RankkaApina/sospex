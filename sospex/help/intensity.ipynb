{
 "cells": [
  {
   "cell_type": "markdown",
   "metadata": {},
   "source": [
    "[Previous](files/zoom.html) &nbsp; &nbsp; &nbsp; &nbsp; &nbsp;  [Next](files/specpanel.html)&nbsp; &nbsp; &nbsp; &nbsp; &nbsp;  [Tutorials](files/tutorials.html) &nbsp; &nbsp; &nbsp; &nbsp; &nbsp;  [Help](files/Help.html)"
   ]
  },
  {
   "cell_type": "markdown",
   "metadata": {},
   "source": [
    "## Regulate the intensity of the image"
   ]
  },
  {
   "cell_type": "markdown",
   "metadata": {},
   "source": [
    "|Button|Function|\n",
    "|:-:|:-|\n",
    "|<img src=\"../icons/levels.png\" alt=\"Intensity\" style=\"width: 20px;\"/>|Regulation of the intensity levels. |\n",
    "|<img src=\"../icons/rainbow.png\" alt=\"ColorMap\" style=\"width: 20px;\"/>|Change the color map. |\n",
    "\n",
    "After clicking the first icon, the histogram of image levels appears on the bottom of the image.\n",
    "It is possible to select a different stretch by clicking and dragging the mouse over the\n",
    "intensity interval one wants to display.\n",
    "\n",
    "The histogram disappear by clicking the same intensity icon.\n",
    "As you can read on the tutorial on contours, the levels used to draw contours on the image are shown as vertical bars on the intensity histogram.\n",
    "\n",
    "To move the center of the colormap or change the contrast, one can move the mouse on the image  by pressing its right button. Horizontal movements change the reference point of the\n",
    "color map (bias), while vertical movements change the contrast.\n",
    "\n",
    "\n",
    "The second icon opens a dialog window which allows one to change the color map, the stretch, and the color of the contours. The 'Reverse' button inverses the color map.\n",
    "The choice of color maps include also popular DS9 choices. Avaible stretches include\n",
    "the 'linear' stretch,  the square root and square power,  the natural logarithm and the\n",
    "power of 'e' (base of natural logarithm), the hyperbolic sinus and its inverse (hyperbolic\n",
    "arc-sinus).\n",
    "After doing the selection, press 'OK' to exit the dialog window.\n"
   ]
  }
 ],
 "metadata": {
  "kernelspec": {
   "display_name": "Python 3",
   "language": "python",
   "name": "python3"
  },
  "language_info": {
   "codemirror_mode": {
    "name": "ipython",
    "version": 3
   },
   "file_extension": ".py",
   "mimetype": "text/x-python",
   "name": "python",
   "nbconvert_exporter": "python",
   "pygments_lexer": "ipython3",
   "version": "3.6.3"
  }
 },
 "nbformat": 4,
 "nbformat_minor": 2
}
