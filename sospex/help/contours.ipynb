{
 "cells": [
  {
   "cell_type": "markdown",
   "metadata": {},
   "source": [
    "[Previous](files/blink.html) &nbsp; &nbsp; &nbsp; &nbsp; &nbsp;  [Next](files/save.html)&nbsp; &nbsp; &nbsp; &nbsp; &nbsp;  [Tutorials](files/tutorials.html) &nbsp; &nbsp; &nbsp; &nbsp; &nbsp;  [Help](files/Help.html)"
   ]
  },
  {
   "cell_type": "markdown",
   "metadata": {},
   "source": [
    "##  Contours"
   ]
  },
  {
   "cell_type": "markdown",
   "metadata": {},
   "source": [
    "|Button|Function|\n",
    "|:-:|:-|\n",
    "|<img src=\"../icons/contours.png\" alt=\"Contours\" style=\"width: 20px;\"/>|Compute and display contours on the current image|"
   ]
  },
  {
   "cell_type": "markdown",
   "metadata": {},
   "source": [
    "### Compute and display contours\n",
    "\n",
    "By clicking the \"contour\" icon, a set of levels is computed on the displayed image and the relative contours are overlapped on the image. \n",
    "The standard set includes 1,2,3,5,10, and 15 times the standard deviation of the intensity histogram plus the\n",
    "median of the same histogram.\n",
    "\n",
    "Contours are immediately computed and displayed on the current image. To save on computation, contours are computed on the other image tabs only once another tab is selected.\n",
    "\n",
    "By opening the intensity histogram of the image (see the [intensity](files/intensity.html) tutorial), the levels are visualized directly on it as vertical lines. Each standard deviation after the median is also displayed as gray vertical lines to guide the eye.\n",
    "\n",
    "\n",
    "### Modify the contours\n",
    "\n",
    "It is possible to modify the contours by acting directly on the intensity histogram.\n",
    "As contours are made, the levels are shown on the histogram. One can select individual levels with the mouse and\n",
    "move them at the desired position. Also, the following keyboard keys are activated:\n",
    "\n",
    "- **i**  Insert a new contour at the position of the mouse\n",
    "- **d**  Delete the contour under the mouse\n",
    "- **t**  Toggle between contour selection and intensity range selection\n",
    "\n",
    "\n",
    "### Remove the contours\n",
    "\n",
    "To get rid of the contours one has simply to click again the \"contours\" icon.\n"
   ]
  }
 ],
 "metadata": {
  "kernelspec": {
   "display_name": "Python 3",
   "language": "python",
   "name": "python3"
  },
  "language_info": {
   "codemirror_mode": {
    "name": "ipython",
    "version": 3
   },
   "file_extension": ".py",
   "mimetype": "text/x-python",
   "name": "python",
   "nbconvert_exporter": "python",
   "pygments_lexer": "ipython3",
   "version": "3.6.1"
  }
 },
 "nbformat": 4,
 "nbformat_minor": 2
}
