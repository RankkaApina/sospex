{
 "cells": [
  {
   "cell_type": "markdown",
   "metadata": {},
   "source": [
    "[Previous](files/slice.html) &nbsp; &nbsp; &nbsp; &nbsp; &nbsp;  [Next](files/apertures.html)&nbsp; &nbsp; &nbsp; &nbsp; &nbsp;  [Tutorials](files/tutorials.html) &nbsp; &nbsp; &nbsp; &nbsp; &nbsp;  [Help](files/Help.html)"
   ]
  },
  {
   "cell_type": "markdown",
   "metadata": {},
   "source": [
    "## Trim and crop the spectral cube"
   ]
  },
  {
   "cell_type": "markdown",
   "metadata": {},
   "source": [
    "|Button|Function|\n",
    "|:-:|:-|\n",
    "|<img src=\"../icons/cut.png\" alt=\"Cut\" style=\"width: 20px;\"/>|Trim. Allows one to select and save a slice of the cube.|\n",
    "|<img src=\"../icons/crop.png\" alt=\"Crop\" style=\"width: 20px;\"/>|Crop. Allows one to save the spatial region of the cube selected by the current zoom.|"
   ]
  },
  {
   "cell_type": "markdown",
   "metadata": {},
   "source": [
    "### Trim\n",
    "\n",
    "Under the spectral panel, the \"trim\" icon activates the span selector on the spectral plot. It is now possible to click and drag the mouse to select the wavelength range one wants to save into a new spectral cube.\n",
    "In fact, some part can be unusable or not interesting. Doing so it will speed up the process of analysis of the cube, especially when fitting lines all over the cube.\n",
    "\n",
    "Once the range is selected, a pop-up window asks if one is interested in saving the new spectral cube with reduced wavelength coverage. If the answer is positive, another pop-up window allows one to choose a name for the new cube and the folder where to save it.\n",
    "\n",
    "### Crop\n",
    "\n",
    "The \"crop\" icon is under the image panel. If the image was blown up using the \"zoom\" icon (see tutorial on [zooming](files/zoom.html)), clicking on the \"crop\" icon will generate a pop-up window asking if one is interested in saving the new cube. At this point, if the answer is positive, another pop-up window allows one to select name and folder to save the new cube."
   ]
  }
 ],
 "metadata": {
  "kernelspec": {
   "display_name": "Python 3",
   "language": "python",
   "name": "python3"
  },
  "language_info": {
   "codemirror_mode": {
    "name": "ipython",
    "version": 3
   },
   "file_extension": ".py",
   "mimetype": "text/x-python",
   "name": "python",
   "nbconvert_exporter": "python",
   "pygments_lexer": "ipython3",
   "version": "3.6.6"
  }
 },
 "nbformat": 4,
 "nbformat_minor": 2
}
