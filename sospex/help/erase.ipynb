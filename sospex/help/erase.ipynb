{
 "cells": [
  {
   "cell_type": "markdown",
   "metadata": {},
   "source": [
    "[Previous](files/moments.html) &nbsp; &nbsp; &nbsp; &nbsp; &nbsp;  [Next](files/atmtrans.html)&nbsp; &nbsp; &nbsp; &nbsp; &nbsp;  [Tutorials](files/tutorials.html) &nbsp; &nbsp; &nbsp; &nbsp; &nbsp;  [Help](files/Help.html)"
   ]
  },
  {
   "cell_type": "markdown",
   "metadata": {},
   "source": [
    "## Erase parts of the cube"
   ]
  },
  {
   "cell_type": "markdown",
   "metadata": {},
   "source": [
    "|Button|Function|\n",
    "|:-:|:-|\n",
    "|<img src=\"../icons/eraser.png\" alt=\"Erase\" style=\"width: 20px;\"/>|Erase part of the cube|"
   ]
  },
  {
   "cell_type": "markdown",
   "metadata": {},
   "source": [
    "It is possible to exclude part of the cube from the computation of continuum and moments in two different ways. After clicking the icon, a dialog asks to choose between:\n",
    "\n",
    "1. use the lowest level of the contours to mask the region outside the contour\n",
    "\n",
    "2. define a polygon on the image to mask the part inside the polygon\n",
    "\n",
    "To use the first option, contours have to be already defined on the image.\n",
    "\n",
    "In the second case, one can define a polygon by clicking on the vertices. Once the polygon\n",
    "is defined, another dialog will ask to erase the part inside the polygon or cancel the action.\n",
    "\n",
    "The masked part is put to NaN in the cube and in all the derived continuum and moments."
   ]
  }
 ],
 "metadata": {
  "kernelspec": {
   "display_name": "Python 3",
   "language": "python",
   "name": "python3"
  },
  "language_info": {
   "codemirror_mode": {
    "name": "ipython",
    "version": 3
   },
   "file_extension": ".py",
   "mimetype": "text/x-python",
   "name": "python",
   "nbconvert_exporter": "python",
   "pygments_lexer": "ipython3",
   "version": "3.7.3"
  }
 },
 "nbformat": 4,
 "nbformat_minor": 2
}
