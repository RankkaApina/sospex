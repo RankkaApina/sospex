{
 "cells": [
  {
   "cell_type": "markdown",
   "metadata": {},
   "source": [
    "[Previous](files/intensity.html) &nbsp; &nbsp; &nbsp; &nbsp; &nbsp;  [Next](files/slice.html)&nbsp; &nbsp; &nbsp; &nbsp; &nbsp;  [Tutorials](files/tutorials.html) &nbsp; &nbsp; &nbsp; &nbsp; &nbsp;  [Help](files/Help.html)"
   ]
  },
  {
   "cell_type": "markdown",
   "metadata": {},
   "source": [
    "## The spectral panel\n",
    "\n"
   ]
  },
  {
   "cell_type": "markdown",
   "metadata": {},
   "source": [
    "Several actions are possible on the spectral panel.\n",
    "We describe here only the one which do not involve pressing any icon on the toolbar.\n",
    "\n",
    "- **change x-axis scale** It is possible to switch between wavelength (in $\\mu$m) and frequecy (in THz) by pressing the label on the x-axis.\n",
    "- **change velocity** By pressing the label with the value of cz, it is possible to write in a different value of velocity.\n",
    "- **select a line** By clicking on the name of a line, it is possible to change the velocity reference selecting as velocity origin the position of the line\n",
    "- **select redshift and line** By dragging the label of a line to a spectral feature, the line becomes the reference frequency for velocity computations and, if agreed, also the redshift of the object is changed by identifying the spectral feature with the selected line.\n",
    "- **hide/show lines** By clicking on the lines in the legend at the bottom of the plot, it is possible to hide/show different lines and the spectral line names.\n",
    "\n",
    "Finally, the legend is draggable. If one wants to save the figure with the legend at another position, just drag the legend at the desired place and then save the image.\n"
   ]
  }
 ],
 "metadata": {
  "kernelspec": {
   "display_name": "Python 3",
   "language": "python",
   "name": "python3"
  },
  "language_info": {
   "codemirror_mode": {
    "name": "ipython",
    "version": 3
   },
   "file_extension": ".py",
   "mimetype": "text/x-python",
   "name": "python",
   "nbconvert_exporter": "python",
   "pygments_lexer": "ipython3",
   "version": "3.6.1"
  }
 },
 "nbformat": 4,
 "nbformat_minor": 2
}
