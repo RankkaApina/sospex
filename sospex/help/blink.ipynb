{
 "cells": [
  {
   "cell_type": "markdown",
   "metadata": {},
   "source": [
    "[Previous](files/extimages.html) &nbsp; &nbsp; &nbsp; &nbsp; &nbsp;  [Next](files/contours.html)&nbsp; &nbsp; &nbsp; &nbsp; &nbsp;  [Tutorials](files/tutorials.html) &nbsp; &nbsp; &nbsp; &nbsp; &nbsp;  [Help](files/Help.html)"
   ]
  },
  {
   "cell_type": "markdown",
   "metadata": {},
   "source": [
    "## Blink between images"
   ]
  },
  {
   "cell_type": "markdown",
   "metadata": {},
   "source": [
    "|Button|Function|\n",
    "|:-:|:-|\n",
    "|<img src=\"../icons/blink.png\" alt=\"Blink\" style=\"width: 20px;\"/>|Blink between the current tab and another tab|"
   ]
  },
  {
   "cell_type": "markdown",
   "metadata": {},
   "source": [
    "To blink between the currently displayed image and the image on another tab, click first the \"blink\" icon and then change tab. The GUI will start blinking between the two images.\n",
    "\n",
    "To stop blinking, simply click another time on the \"blink\" icon."
   ]
  }
 ],
 "metadata": {
  "kernelspec": {
   "display_name": "Python 3",
   "language": "python",
   "name": "python3"
  },
  "language_info": {
   "codemirror_mode": {
    "name": "ipython",
    "version": 3
   },
   "file_extension": ".py",
   "mimetype": "text/x-python",
   "name": "python",
   "nbconvert_exporter": "python",
   "pygments_lexer": "ipython3",
   "version": "3.6.1"
  }
 },
 "nbformat": 4,
 "nbformat_minor": 2
}
