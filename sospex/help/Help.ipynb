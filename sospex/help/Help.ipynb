{
 "cells": [
  {
   "cell_type": "markdown",
   "metadata": {
    "collapsed": true
   },
   "source": [
    "[Previous](files/Help.html) &nbsp; &nbsp; &nbsp; &nbsp; &nbsp;  [Next](files/tutorials.html)&nbsp; &nbsp; &nbsp; &nbsp; &nbsp;  [Tutorials](files/tutorials.html) &nbsp; &nbsp; &nbsp; &nbsp; &nbsp;  [Help](files/Help.html)"
   ]
  },
  {
   "cell_type": "markdown",
   "metadata": {},
   "source": [
    "# SOSPEX"
   ]
  },
  {
   "cell_type": "markdown",
   "metadata": {},
   "source": [
    "*SOSPEX* stands for *SOFIA Spectral Explorer*.\n",
    "\n",
    "The software has been developed by Dario Fadda (SOFIA Science Center) and it is publicly\n",
    "avaible under the GNU General Public License v3.0.\n",
    "\n",
    "The tool allows one to explore and analyze spectral cubes obtained with the *FIFI-LS* and *GREAT* instruments onboard *SOFIA*.\n",
    "\n",
    "It is also possible to display *Herschel/PACS* cubes (only simple cubes).\n",
    "\n",
    "The viewer is organized in two panels: \n",
    "\n",
    "- the image panel (left) displays 2D projections of the spectral cube\n",
    "- the spectral panel (right) plots 1D spectra extracted from the spectral cube\n",
    "\n",
    "Several actions are possible using the buttons on the toolbars.\n",
    "A short help about the buttons can be obtained by hovering over the icons.\n",
    "Further information is sent through the status bar once buttons are clicked.\n"
   ]
  },
  {
   "cell_type": "markdown",
   "metadata": {},
   "source": [
    "For more information about the usage of SOSPEX, have a look at the\n",
    "[tutorials](files/tutorials.html)."
   ]
  }
 ],
 "metadata": {
  "kernelspec": {
   "display_name": "Python 3",
   "language": "python",
   "name": "python3"
  },
  "language_info": {
   "codemirror_mode": {
    "name": "ipython",
    "version": 3
   },
   "file_extension": ".py",
   "mimetype": "text/x-python",
   "name": "python",
   "nbconvert_exporter": "python",
   "pygments_lexer": "ipython3",
   "version": "3.6.5"
  }
 },
 "nbformat": 4,
 "nbformat_minor": 2
}
