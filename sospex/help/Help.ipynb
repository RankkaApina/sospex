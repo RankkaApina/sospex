{
 "cells": [
  {
   "cell_type": "markdown",
   "metadata": {},
   "source": [
    "#  SOSPEX"
   ]
  },
  {
   "cell_type": "markdown",
   "metadata": {},
   "source": [
    "*SOSPEX* stands for *SOFIA Spectral Explorer*.\n",
    "\n",
    "The software has been developed by Dario Fadda (SOFIA Science Center) and it is publicly\n",
    "avaible under the GNU General Public License v3.0.\n",
    "\n",
    "The tool allows one to explore and analyze spectral cubes obtained with the *FIFI-LS* and *GREAT* instruments onboard *SOFIA*. \n",
    "\n",
    "The viewer is organized in two panels: \n",
    "\n",
    "- the image panel (left) displays 2D projections of the spectral cube\n",
    "- the spectral panel (right) plots 1D spectra extracted from the spectral cube\n",
    "\n",
    "Several actions are possible using the buttons on the toolbars.\n",
    "A short help about the buttons can be obtained by hovering over the icons.\n",
    "Further information is sent through the status bar once buttons are clicked.\n",
    "\n",
    "Clicking on the 'NEW' button, a directory navigator allows one to select a local FITS\n",
    "file containing a SOFIA spectral cube downloaded from the SOFIA Science Archive.\n",
    "After opening the file, the median of cube along the spectral dimension is shown on the image panel while the spectrum plotted on the left panel is obtained by summing all the spatial pixels for each wavelength.\n",
    "\n",
    "In the case of  FIFI-LS two further cubes are read and displayed: \n",
    "- the uncorrected flux\n",
    "- the exposure cube\n",
    "resulting in two further tabs in the image panel (median uncorrected flux and \n",
    "total exposure map) and curves on the spectral panel.\n",
    "In addition, also the atmospheric transmission used for the correction is shown\n",
    "in the spectral panel."
   ]
  },
  {
   "cell_type": "markdown",
   "metadata": {},
   "source": [
    "### Tutorials\n",
    "\n",
    "The following tutorial explain how to use most of the features of SOSPEX for exploring, analyzing, and \n",
    "manipulating the data or comparing to other images from public archives.\n",
    "\n",
    "- [Zooming & Panning](files/zoom.html)"
   ]
  }
 ],
 "metadata": {
  "kernelspec": {
   "display_name": "Python 3",
   "language": "python",
   "name": "python3"
  },
  "language_info": {
   "codemirror_mode": {
    "name": "ipython",
    "version": 3
   },
   "file_extension": ".py",
   "mimetype": "text/x-python",
   "name": "python",
   "nbconvert_exporter": "python",
   "pygments_lexer": "ipython3",
   "version": "3.6.3"
  }
 },
 "nbformat": 4,
 "nbformat_minor": 2
}
