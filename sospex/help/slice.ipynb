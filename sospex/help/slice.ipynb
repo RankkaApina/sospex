{
 "cells": [
  {
   "cell_type": "markdown",
   "metadata": {},
   "source": [
    "[Previous](files/slider.html) &nbsp; &nbsp; &nbsp; &nbsp; &nbsp;  [Next](files/croptrim.html)&nbsp; &nbsp; &nbsp; &nbsp; &nbsp;  [Tutorials](files/tutorials.html) &nbsp; &nbsp; &nbsp; &nbsp; &nbsp;  [Help](files/Help.html)"
   ]
  },
  {
   "cell_type": "markdown",
   "metadata": {},
   "source": [
    "## Slicing the spectral cube\n",
    "\n",
    "|Button|Function|\n",
    "|:-:|:-|\n",
    "|<img src=\"../icons/slicecube.png\" alt=\"New\" style=\"width: 20px;\"/>|Select channel/slice of the cube to display on the image panel |\n",
    "\n",
    "By clicking the icon, a pop-up window allows one to select between displaying a single wavelength channel of the spectral cube or a slice of the cube. In the first case (default), a green band showing the extent of a channel appears on the spectral window. The band can be moved by dragging the green arrow at the top of the band.\n",
    "\n",
    "If the other option is selected, a wider band with two cursors appears on the spectral window. By moving the \n",
    "two cursors at the top of the green band, one can select a different wavelength range of the cube. \n",
    "This range is considered to obtain the mean values of the flux (uncorrected flux, exposure map) images displayed in the image panel on the left."
   ]
  }
 ],
 "metadata": {
  "kernelspec": {
   "display_name": "Python 3",
   "language": "python",
   "name": "python3"
  },
  "language_info": {
   "codemirror_mode": {
    "name": "ipython",
    "version": 3
   },
   "file_extension": ".py",
   "mimetype": "text/x-python",
   "name": "python",
   "nbconvert_exporter": "python",
   "pygments_lexer": "ipython3",
   "version": "3.7.3"
  }
 },
 "nbformat": 4,
 "nbformat_minor": 2
}
