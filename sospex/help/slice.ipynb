{
 "cells": [
  {
   "cell_type": "markdown",
   "metadata": {},
   "source": [
    "[Previous](files/specpanel.html) &nbsp; &nbsp; &nbsp; &nbsp; &nbsp;  [Next](files/cutcrop.html)&nbsp; &nbsp; &nbsp; &nbsp; &nbsp;  [Tutorials](files/tutorials.html) &nbsp; &nbsp; &nbsp; &nbsp; &nbsp;  [Help](files/Help.html)"
   ]
  },
  {
   "cell_type": "markdown",
   "metadata": {},
   "source": [
    "## Slice the spectral cube\n",
    "\n",
    "|Button|Function|\n",
    "|:-:|:-|\n",
    "|<img src=\"../icons/slice.png\" alt=\"New\" style=\"width: 20px;\"/>|Select a slice of the cube to display on the image panel |\n",
    "\n",
    "By clicking the icon, a span selector is activated on the spectral panel. At this point, by clicking and dragging the\n",
    "mouse it is possible to select a slice of the cube in the spectral direction which is considered to produce the images on the image panel.\n",
    "In particular, only the wavelength range selected on the spectral plot is considered to obtain the median values of the flux (uncorrected flux, exposure map) images.\n",
    "\n",
    "Once the slice is selected, by using the mouse wheel it is possible to move the wavelength window to see different features in the cube at different wavelengths, such as for instance molecular clouds at different distances/velocities.\n"
   ]
  }
 ],
 "metadata": {
  "kernelspec": {
   "display_name": "Python 3",
   "language": "python",
   "name": "python3"
  },
  "language_info": {
   "codemirror_mode": {
    "name": "ipython",
    "version": 3
   },
   "file_extension": ".py",
   "mimetype": "text/x-python",
   "name": "python",
   "nbconvert_exporter": "python",
   "pygments_lexer": "ipython3",
   "version": "3.6.1"
  }
 },
 "nbformat": 4,
 "nbformat_minor": 2
}
