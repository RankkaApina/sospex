{
 "cells": [
  {
   "cell_type": "markdown",
   "metadata": {},
   "source": [
    "[Previous](files/apertures.html) &nbsp; &nbsp; &nbsp; &nbsp; &nbsp;  [Next](files/blink.html)&nbsp; &nbsp; &nbsp; &nbsp; &nbsp;  [Tutorials](files/tutorials.html) &nbsp; &nbsp; &nbsp; &nbsp; &nbsp;  [Help](files/Help.html)"
   ]
  },
  {
   "cell_type": "markdown",
   "metadata": {},
   "source": [
    "## External images"
   ]
  },
  {
   "cell_type": "markdown",
   "metadata": {},
   "source": [
    "|Button|Function|\n",
    "|:-:|:-|\n",
    "|<img src=\"../icons/cloud.png\" alt=\"External images\" style=\"width: 20px;\"/>|Download images from archives or load local FITS file|"
   ]
  },
  {
   "cell_type": "markdown",
   "metadata": {},
   "source": [
    "By clicking the \"cloud\" icon under the image panel, a pop-up menu appears.\n",
    "From this menu it is possible to select either the name of a public archive server or a local file.\n",
    "\n",
    "If a local file is selected, the user is prompted to select a local FITS file with the navigator window.\n",
    "\n",
    "If one of the listed archives is selected, the center and size of the displayed images are used to query the archive and retrieve an image. If the archive does not cover the field, a message is sent to the status bar.\n",
    "\n",
    "Once the image is loaded, another image tab is open to display it."
   ]
  }
 ],
 "metadata": {
  "kernelspec": {
   "display_name": "Python 3",
   "language": "python",
   "name": "python3"
  },
  "language_info": {
   "codemirror_mode": {
    "name": "ipython",
    "version": 3
   },
   "file_extension": ".py",
   "mimetype": "text/x-python",
   "name": "python",
   "nbconvert_exporter": "python",
   "pygments_lexer": "ipython3",
   "version": "3.6.1"
  }
 },
 "nbformat": 4,
 "nbformat_minor": 2
}
