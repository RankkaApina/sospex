{
 "cells": [
  {
   "cell_type": "markdown",
   "metadata": {},
   "source": [
    "[Previous](files/save.html) &nbsp; &nbsp; &nbsp; &nbsp; &nbsp;  [Next](files/erase.html)&nbsp; &nbsp; &nbsp; &nbsp; &nbsp;  [Tutorials](files/tutorials.html) &nbsp; &nbsp; &nbsp; &nbsp; &nbsp;  [Help](files/Help.html)"
   ]
  },
  {
   "cell_type": "markdown",
   "metadata": {},
   "source": [
    "## Fit Continuum and Compute Moments"
   ]
  },
  {
   "cell_type": "markdown",
   "metadata": {},
   "source": [
    "|Button|Function|\n",
    "|:-:|:-|\n",
    "|<img src=\"../icons/guessCont.png\" alt=\"GuessCont\" style=\"width: 20px;\"/>|Define intervals to fit the continuum and its guess level and slope|"
   ]
  },
  {
   "cell_type": "markdown",
   "metadata": {},
   "source": [
    "### Guess the  level of the continuum\n",
    "\n",
    "Once clicked on the icon under the spectrum, a dialog window will ask to select the degree of the polynomial to fit\n",
    "the continuum, the boundary condition for fitting (continuum has to be positive or not), and the kernel used to compute the spectrum (1, 5, or 9 pixels around the position of each spatial pixel).\n",
    "\n",
    "At this point, click and drag to trace the continuum on the right and the left of the line.\n",
    "Try to avoid the brightest part of the line to have a better fit of the continuum.\n",
    "The traced guessed continuum will appear on the image. \n",
    "It is possible to select a point and drag it around to change the region or the height of\n",
    "the point.\n",
    "By clicking 'd' one can delete the guess.\n",
    "To restart with another guess (and deleting the previously computed moments), reclick the icon."
   ]
  },
  {
   "cell_type": "markdown",
   "metadata": {},
   "source": [
    "|Button|Function|\n",
    "|:-:|:-|\n",
    "|<img src=\"../icons/fitCont.png\" alt=\"FitCont\" style=\"width: 20px;\"/>|Fit the continuum|"
   ]
  },
  {
   "cell_type": "markdown",
   "metadata": {},
   "source": [
    "### Fit the continuum\n",
    "\n",
    "Under the image, click the icon to fit the continuum. A dialog will ask if the fit has to be done on the entire\n",
    "cube or limited to a selected region.\n",
    "If the second case is true, you can select a region on the image by click and dragging the mouse.\n",
    "Once the region is selected, the fit starts automatically and will show on the spectra the level of the continuum\n",
    "and on the image \"C0\" the continuum computed at the reference wavelength.\n",
    "\n",
    "I the reference wavelength changes, it is possible to recompute C0 by clicking in the menu: Fit-->Recompute C0,v,sv."
   ]
  },
  {
   "cell_type": "markdown",
   "metadata": {},
   "source": [
    "|Button|Function|\n",
    "|:-:|:-|\n",
    "|<img src=\"../icons/slice.png\" alt=\"DefineMoments\" style=\"width: 20px;\"/>|Select the interval to compute moments|"
   ]
  },
  {
   "cell_type": "markdown",
   "metadata": {},
   "source": [
    "### Define the interval to compute the moments\n",
    "\n",
    "Click the relative icon under the spectrum. The \"PIX\" tab will be automatically selected. By clicking and dragging the mouse, a region of the spectrum is shaded. This is the interval which will be considered for computing the moments. "
   ]
  },
  {
   "cell_type": "markdown",
   "metadata": {},
   "source": [
    "### The moments\n",
    "\n",
    "These are the definitions used.\n",
    "\n",
    "Zeroth moment: $M_0 = \\int F d\\lambda$.\n",
    "\n",
    "First moment:  $M_1 = \\int \\frac{\\lambda}{M_0} F d\\lambda$\n",
    "\n",
    "Second moment:  $M_2 = \\int \\frac{(\\lambda-M_1)^2}{M_0} F d\\lambda$\n",
    "\n",
    "Third moment: $M_3 = \\int \\frac{(\\lambda-M_1)^3}{M_0 \\sigma^3} F d\\lambda$ \n",
    "\n",
    "Fourth moment: $M_4 = \\int \\frac{(\\lambda-M_1)^4}{M_0 \\sigma^4} F d\\lambda - 3$\n",
    "\n",
    "with $\\sigma = \\sqrt{M_2}$.\n",
    "\n",
    "The zeroth moment (once the continuum emission is subtracted) gives\n",
    "information about the intensity of the line (or lines).\n",
    "\n",
    "The first moment gives information about the velocity field of the reference line:  \n",
    "\n",
    "$v = (M_1-\\lambda_0) c /\\lambda_0$,\n",
    "\n",
    "where $\\lambda_0$ is the reference wavelength:\n",
    "\n",
    "$\\lambda_0 = \\lambda_{line} (1+z)$.\n",
    "\n",
    "To obtain velocities relative to the mean velocity of the structure, one has to subtract $cz$.\n",
    "\n",
    "The second moment gives information about the velocity dispersion of the reference line:\n",
    "\n",
    "$\\sigma_v = \\sqrt{M_2} c /\\lambda_0$.\n",
    "\n",
    "The third moment, normalized skewness, tells if a distribution is slanted to the right (positive\n",
    "values) or the left (negative values).\n",
    "\n",
    "Finally, the fourth moment, kurtosis excess, tells if the distribution is platykurtic (more plate\n",
    "than the Gaussian) or leptokurtic (narrower than a Gaussian). The normalized kurtosis of a Gaussian is\n",
    "3. This is the reason that subtracting 3 we compute the kurtosis excess with respect to a Gaussian distribution."
   ]
  },
  {
   "cell_type": "markdown",
   "metadata": {},
   "source": [
    "|Button|Function|\n",
    "|:-:|:-|\n",
    "|<img src=\"../icons/computeMoments.png\" alt=\"ComputeMoments\" style=\"width: 20px;\"/>|Compute the moments|"
   ]
  },
  {
   "cell_type": "markdown",
   "metadata": {},
   "source": [
    "### Compute the moments\n",
    "\n",
    "After clicking the icon, a dialog will ask to decide if computing moments on the entire cube or only in a selected region. If the line appears at different velocities in the map, it is advisable to compute the moments in regions by selecting different intervals.\n",
    "\n",
    "To select a region, click and drag the mouse over the rectangular area on the image where you want to compute the moments. Once the computation is done, a cross will appear over the \"PIX\" spectrum with location, amplitude, and \n",
    "dispersion corresponding to the computed moments. Also the new images M0, M1, M2, v, and sv are created.\n"
   ]
  }
 ],
 "metadata": {
  "kernelspec": {
   "display_name": "Python 3",
   "language": "python",
   "name": "python3"
  },
  "language_info": {
   "codemirror_mode": {
    "name": "ipython",
    "version": 3
   },
   "file_extension": ".py",
   "mimetype": "text/x-python",
   "name": "python",
   "nbconvert_exporter": "python",
   "pygments_lexer": "ipython3",
   "version": "3.6.3"
  }
 },
 "nbformat": 4,
 "nbformat_minor": 2
}
