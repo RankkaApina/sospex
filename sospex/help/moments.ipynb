{
 "cells": [
  {
   "cell_type": "markdown",
   "metadata": {},
   "source": [
    "[Previous](files/save.html) &nbsp; &nbsp; &nbsp; &nbsp; &nbsp;  [Next](files/tutorials.html)&nbsp; &nbsp; &nbsp; &nbsp; &nbsp;  [Tutorials](files/tutorials.html) &nbsp; &nbsp; &nbsp; &nbsp; &nbsp;  [Help](files/Help.html)"
   ]
  },
  {
   "cell_type": "markdown",
   "metadata": {},
   "source": [
    "## Fit Continuum and Compute Moments"
   ]
  },
  {
   "cell_type": "markdown",
   "metadata": {},
   "source": [
    "|Button|Function|\n",
    "|:-:|:-|\n",
    "|<img src=\"../icons/guess.png\" alt=\"Guess\" style=\"width: 20px;\"/>|Guess level of the continuum|\n",
    "|<img src=\"../icons/fitregion.png\" alt=\"Fit\" style=\"width: 20px;\"/>|Select a region to fit continuum, compute moments|"
   ]
  },
  {
   "cell_type": "markdown",
   "metadata": {},
   "source": [
    "### Guess level of the continuum\n",
    "\n",
    "Once clicked on the icon, click and drag to trace the continuum on the right and the left of the line.\n",
    "The traced guessed continuum will appear on the image. \n",
    "At this point, it is possible to select a point and drag it around to change the region or the height of\n",
    "the point.\n",
    "By clicking 'd' one can delete the guess.\n",
    "To restart with another guess (and deleting the previously computed moments), reclick on the icon."
   ]
  },
  {
   "cell_type": "markdown",
   "metadata": {},
   "source": [
    "### Fit continuum and compute moments\n",
    "\n",
    "After clicking the icon, select by clicking and dragging the mouse the rectangular area on the image where to fit the continuum and compute the moments.\n",
    "Once the guess is visible on the Pixel spectrum, it is possible to select another area and redo the fit."
   ]
  }
 ],
 "metadata": {
  "kernelspec": {
   "display_name": "Python 3",
   "language": "python",
   "name": "python3"
  },
  "language_info": {
   "codemirror_mode": {
    "name": "ipython",
    "version": 3
   },
   "file_extension": ".py",
   "mimetype": "text/x-python",
   "name": "python",
   "nbconvert_exporter": "python",
   "pygments_lexer": "ipython3",
   "version": "3.6.4"
  }
 },
 "nbformat": 4,
 "nbformat_minor": 2
}
