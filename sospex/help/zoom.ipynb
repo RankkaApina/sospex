{
 "cells": [
  {
   "cell_type": "markdown",
   "metadata": {},
   "source": [
    "[Previous](files/start.html) &nbsp; &nbsp; &nbsp; &nbsp; &nbsp;  [Next](files/intensity.html)&nbsp; &nbsp; &nbsp; &nbsp; &nbsp;  [Tutorials](files/tutorials.html) &nbsp; &nbsp; &nbsp; &nbsp; &nbsp;  [Help](files/Help.html)"
   ]
  },
  {
   "cell_type": "markdown",
   "metadata": {},
   "source": [
    "### Zooming and panning\n",
    "\n",
    "The following icons allows the user to navigate in the panels.\n",
    "\n",
    "|Button|Function|\n",
    "|:-:|:-|\n",
    "|<img src=\"../icons/zoom_to_rect_large.png\" alt=\"New\" style=\"width: 20px;\"/>|Zoom in. After clicking the icon, click the left button and drag the mouse to select a rectangular region on a panel which includes the part of the image to blow up.|\n",
    "|<img src=\"../icons/move_large.png\" alt=\"Pan\" style=\"width: 20px;\"/>|Pan. After clicking the icon, click and move the mouse on an image to move it in any direction.|\n",
    "|<img src=\"../icons/home_large.png\" alt=\"Home\" style=\"width: 20px;\"/>|Return to the initial settings.|\n",
    "|<img src=\"../icons/vresize.png\" alt=\"Vresize\" style=\"width: 20px;\"/>|Resize vertically.|\n",
    "|<img src=\"../icons/hresize.png\" alt=\"Hresize\" style=\"width: 20px;\"/>|Resize horizontally.|\n",
    "\n",
    "\n",
    "\n",
    "In the image panel, it is possible to zoom in and out by rolling the mouse wheel up and down.The same action on the spectrum panel does not have the same effect. In fact it is reserved for moving the slicer along the spectral direction.\n",
    "\n",
    "The two last icons are available on the spectral panel only and they allow one to resize the plot by including all the wavelengths available (horizont resizing) or all the values of flux available (vertical resizing).\n"
   ]
  }
 ],
 "metadata": {
  "kernelspec": {
   "display_name": "Python 3",
   "language": "python",
   "name": "python3"
  },
  "language_info": {
   "codemirror_mode": {
    "name": "ipython",
    "version": 3
   },
   "file_extension": ".py",
   "mimetype": "text/x-python",
   "name": "python",
   "nbconvert_exporter": "python",
   "pygments_lexer": "ipython3",
   "version": "3.6.1"
  }
 },
 "nbformat": 4,
 "nbformat_minor": 2
}
