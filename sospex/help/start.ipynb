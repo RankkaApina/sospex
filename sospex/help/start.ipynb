{
 "cells": [
  {
   "cell_type": "markdown",
   "metadata": {},
   "source": [
    "## Loading a spectral cube"
   ]
  },
  {
   "cell_type": "markdown",
   "metadata": {},
   "source": [
    "Button|Action\n",
    ":-:|:-\n",
    "<img src=\"images/new.png\" alt=\"New\" style=\"width: 30px;\"/>|Open a directory navigator to select a local FITS file containing a SOFIA spectral cube downloaded from the SOFIA Science Archive.\n",
    "\n",
    "After opening the file, the median of cube along the spectral dimension is shown on the image panel while the spectrum plotted on the left panel is obtained by summing all the spatial pixels for each wavelength.\n",
    "\n",
    "In the case of  FIFI-LS two further cubes are read and displayed: \n",
    "- the uncorrected flux\n",
    "- the exposure cube\n",
    "resulting in two further tabs in the image panel (median uncorrected flux and \n",
    "total exposure map) and curves on the spectral panel.\n",
    "In addition, also the atmospheric transmission used for the correction is shown\n",
    "in the spectral panel."
   ]
  },
  {
   "cell_type": "markdown",
   "metadata": {},
   "source": [
    " [Back to main help](files/Help.html)\n",
    " \n",
    " [Back to the tutorial list](files/tutorials.html)"
   ]
  }
 ],
 "metadata": {
  "kernelspec": {
   "display_name": "Python 3",
   "language": "python",
   "name": "python3"
  },
  "language_info": {
   "codemirror_mode": {
    "name": "ipython",
    "version": 3
   },
   "file_extension": ".py",
   "mimetype": "text/x-python",
   "name": "python",
   "nbconvert_exporter": "python",
   "pygments_lexer": "ipython3",
   "version": "3.6.3"
  }
 },
 "nbformat": 4,
 "nbformat_minor": 2
}
