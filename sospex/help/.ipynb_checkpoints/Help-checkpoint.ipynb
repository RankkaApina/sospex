{
 "cells": [
  {
   "cell_type": "markdown",
   "metadata": {},
   "source": [
    "#  SOSPEX"
   ]
  },
  {
   "cell_type": "markdown",
   "metadata": {},
   "source": [
    "*SOSPEX* stands for *SOFIA Spectral Explorer*.\n",
    "\n",
    "The tool allows one to explore and analyze spectral cubes obtained with the *FIFI-LS* and *GREAT* instruments onboard *SOFIA*. \n",
    "\n",
    "The viewer is organized in two panels: \n",
    "\n",
    "- the image panel (left) displays 2D projections of the spectral cube\n",
    "- the spectral panel (right) plots 1D spectra extracted from the spectral cube\n",
    "\n",
    "Several actions are possible using the buttons on the toolbars under the panels.\n",
    "A short help about the buttons can be obtained by hovering over the icons.\n",
    "Further information is sent through the status bar once buttons are clicked."
   ]
  }
 ],
 "metadata": {
  "kernelspec": {
   "display_name": "Python 3",
   "language": "python",
   "name": "python3"
  },
  "language_info": {
   "codemirror_mode": {
    "name": "ipython",
    "version": 3
   },
   "file_extension": ".py",
   "mimetype": "text/x-python",
   "name": "python",
   "nbconvert_exporter": "python",
   "pygments_lexer": "ipython3",
   "version": "3.6.1"
  }
 },
 "nbformat": 4,
 "nbformat_minor": 2
}
