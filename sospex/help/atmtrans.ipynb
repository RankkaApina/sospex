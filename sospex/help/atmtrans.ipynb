{
 "cells": [
  {
   "cell_type": "markdown",
   "metadata": {},
   "source": [
    "[Previous](files/erase.html) &nbsp; &nbsp; &nbsp; &nbsp; &nbsp;  [Next](files/tutorials.html)&nbsp; &nbsp; &nbsp; &nbsp; &nbsp;  [Tutorials](files/tutorials.html) &nbsp; &nbsp; &nbsp; &nbsp; &nbsp;  [Help](files/Help.html)"
   ]
  },
  {
   "cell_type": "markdown",
   "metadata": {},
   "source": [
    "## Atmospheric transmission"
   ]
  },
  {
   "cell_type": "markdown",
   "metadata": {},
   "source": [
    "In the case of FIFI-LS data, the level 4 product contain an extension with flux corrected for atmospheric transmission and another one with flux not corrected.\n",
    "The pipeline corrects for the atmospheric transmission by convolving the ATRAN model of the atmosphere with the spectral resolution of FIFI-LS and then dividing the flux for each frame by taking into account altitude and zenithal angle of the observation.\n",
    "This works perfectly only in the case of continuum and with the correct water vapor values.\n",
    "\n",
    "In reality, unresolved lines which reside outside telluric lines are not affected by the atmospheric absorption and,\n",
    "due to the fact that the atmospheric transmission is convoluted with the spectral resolution, are sometimes unnecessarely corrected for the effect of the atmosphere. The effect is particularly bad for lines in the wings of telluric lines.\n",
    "\n",
    "On the top of that, an incorrect value of the water vapor can lead to an over/under correction of the atmospheric absorption.\n",
    "\n",
    "*sospex* offers three alternatives to correct for atmospheric absorption:\n",
    "\n",
    "1. Use the value of the transmission at the reference wavelenght. This will give the best correction for the flux of the line at the reference wavelength but will not correct the surrounding continuum.\n",
    "2. Apply the median value of the transmission to the entire observation. Useful when a range has to be corrected without caring for telluric line at the sides.\n",
    "3. Use an input value of the water vapor to apply an alternative correction to the data. This leads to better results only if the pipeline value is substantially off. Note that in this case the median value of the altitude and zenithal angle during the observation is used, while the pipeline takes into account the variation of these quantities during the observation.\n"
   ]
  },
  {
   "cell_type": "markdown",
   "metadata": {},
   "source": [
    "### The correction\n",
    "\n",
    "Under the menu select one of the three possibilities:\n",
    "\n",
    "<img src=\"../icons/atcorr1.png\" alt=\"Atmospheric correction 1\" style=\"height: 150px;\"/>"
   ]
  },
  {
   "cell_type": "markdown",
   "metadata": {},
   "source": [
    "If the third option is selected, a pop-up window will require the new value for the water vapor.\n",
    "\n",
    "<img src=\"../icons/atcorr2.png\" alt=\"Atmospheric transmission 2\" style=\"height: 150px;\"/>"
   ]
  },
  {
   "cell_type": "markdown",
   "metadata": {},
   "source": [
    "Once selected, a new value of the flux is computed an displayed."
   ]
  },
  {
   "cell_type": "code",
   "execution_count": null,
   "metadata": {},
   "outputs": [],
   "source": []
  }
 ],
 "metadata": {
  "kernelspec": {
   "display_name": "Python 3",
   "language": "python",
   "name": "python3"
  },
  "language_info": {
   "codemirror_mode": {
    "name": "ipython",
    "version": 3
   },
   "file_extension": ".py",
   "mimetype": "text/x-python",
   "name": "python",
   "nbconvert_exporter": "python",
   "pygments_lexer": "ipython3",
   "version": "3.7.3"
  }
 },
 "nbformat": 4,
 "nbformat_minor": 2
}
